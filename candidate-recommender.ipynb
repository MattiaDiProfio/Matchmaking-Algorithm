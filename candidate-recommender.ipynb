{
 "cells": [
  {
   "cell_type": "markdown",
   "id": "3d2256d8",
   "metadata": {},
   "source": [
    "# Candidate-Role Recommender System"
   ]
  },
  {
   "cell_type": "markdown",
   "id": "ccd309c6",
   "metadata": {},
   "source": [
    "The aim of this project is to come up with a solution capable of accurately suggest candidates suitable for a particular job advertisement. I will proceed by conducting some exploratory data analysis on the (randomly generated) datasets, to then proceed with the implementation of common matchmaking algorithms as well as machine learning regression and classification techniques. \n",
    "Finally, I will analyse the performance of each approach and select a suitable option."
   ]
  },
  {
   "cell_type": "code",
   "execution_count": 19,
   "id": "11d6aa91",
   "metadata": {},
   "outputs": [],
   "source": [
    "import pandas as pd\n",
    "import seaborn as sns\n",
    "import matplotlib.pyplot as plt\n",
    "import numpy as np\n",
    "\n",
    "# set matplotlib inline styles\n",
    "%matplotlib inline\n",
    "\n",
    "# load the datasets into pandas dataframes\n",
    "jobs = pd.read_csv('internshipsdata.csv')\n",
    "candidates = pd.read_csv('studentsdata.csv')"
   ]
  },
  {
   "cell_type": "code",
   "execution_count": 27,
   "id": "f3c7e8da",
   "metadata": {
    "scrolled": true
   },
   "outputs": [
    {
     "data": {
      "text/html": [
       "<div>\n",
       "<style scoped>\n",
       "    .dataframe tbody tr th:only-of-type {\n",
       "        vertical-align: middle;\n",
       "    }\n",
       "\n",
       "    .dataframe tbody tr th {\n",
       "        vertical-align: top;\n",
       "    }\n",
       "\n",
       "    .dataframe thead th {\n",
       "        text-align: right;\n",
       "    }\n",
       "</style>\n",
       "<table border=\"1\" class=\"dataframe\">\n",
       "  <thead>\n",
       "    <tr style=\"text-align: right;\">\n",
       "      <th></th>\n",
       "      <th>Title</th>\n",
       "      <th>Company</th>\n",
       "      <th>Field</th>\n",
       "      <th>Min_score</th>\n",
       "      <th>Positions</th>\n",
       "    </tr>\n",
       "  </thead>\n",
       "  <tbody>\n",
       "    <tr>\n",
       "      <th>0</th>\n",
       "      <td>Radiologic Technologist Placement</td>\n",
       "      <td>MediCare Innovations</td>\n",
       "      <td>nutrition</td>\n",
       "      <td>90</td>\n",
       "      <td>4</td>\n",
       "    </tr>\n",
       "    <tr>\n",
       "      <th>1</th>\n",
       "      <td>Registered Nurse Opportunity</td>\n",
       "      <td>LifeScience Labs</td>\n",
       "      <td>nutrition</td>\n",
       "      <td>84</td>\n",
       "      <td>3</td>\n",
       "    </tr>\n",
       "    <tr>\n",
       "      <th>2</th>\n",
       "      <td>Physician Placement</td>\n",
       "      <td>BioHealth Therapeutics</td>\n",
       "      <td>nursing</td>\n",
       "      <td>59</td>\n",
       "      <td>4</td>\n",
       "    </tr>\n",
       "    <tr>\n",
       "      <th>3</th>\n",
       "      <td>Medical Assistant Placement</td>\n",
       "      <td>LifeScience Labs</td>\n",
       "      <td>nutrition</td>\n",
       "      <td>95</td>\n",
       "      <td>5</td>\n",
       "    </tr>\n",
       "    <tr>\n",
       "      <th>4</th>\n",
       "      <td>Radiologic Technologist Placement</td>\n",
       "      <td>HealthPro Solutions</td>\n",
       "      <td>dentistry</td>\n",
       "      <td>58</td>\n",
       "      <td>7</td>\n",
       "    </tr>\n",
       "  </tbody>\n",
       "</table>\n",
       "</div>"
      ],
      "text/plain": [
       "                               Title                 Company      Field  \\\n",
       "0  Radiologic Technologist Placement    MediCare Innovations  nutrition   \n",
       "1       Registered Nurse Opportunity        LifeScience Labs  nutrition   \n",
       "2                Physician Placement  BioHealth Therapeutics    nursing   \n",
       "3        Medical Assistant Placement        LifeScience Labs  nutrition   \n",
       "4  Radiologic Technologist Placement     HealthPro Solutions  dentistry   \n",
       "\n",
       "   Min_score  Positions  \n",
       "0         90          4  \n",
       "1         84          3  \n",
       "2         59          4  \n",
       "3         95          5  \n",
       "4         58          7  "
      ]
     },
     "execution_count": 27,
     "metadata": {},
     "output_type": "execute_result"
    }
   ],
   "source": [
    "# checkout the head of the jobs dataframe\n",
    "jobs.head()"
   ]
  },
  {
   "cell_type": "code",
   "execution_count": 30,
   "id": "eeef2880",
   "metadata": {},
   "outputs": [
    {
     "data": {
      "text/html": [
       "<div>\n",
       "<style scoped>\n",
       "    .dataframe tbody tr th:only-of-type {\n",
       "        vertical-align: middle;\n",
       "    }\n",
       "\n",
       "    .dataframe tbody tr th {\n",
       "        vertical-align: top;\n",
       "    }\n",
       "\n",
       "    .dataframe thead th {\n",
       "        text-align: right;\n",
       "    }\n",
       "</style>\n",
       "<table border=\"1\" class=\"dataframe\">\n",
       "  <thead>\n",
       "    <tr style=\"text-align: right;\">\n",
       "      <th></th>\n",
       "      <th>Fullname</th>\n",
       "      <th>Course</th>\n",
       "      <th>Score</th>\n",
       "      <th>Experience</th>\n",
       "      <th>Study_mode</th>\n",
       "      <th>Study_pattern</th>\n",
       "    </tr>\n",
       "  </thead>\n",
       "  <tbody>\n",
       "    <tr>\n",
       "      <th>0</th>\n",
       "      <td>Mark Garcia</td>\n",
       "      <td>Master of Public Health (M.P.H.)</td>\n",
       "      <td>97</td>\n",
       "      <td>dentistry</td>\n",
       "      <td>on-campus</td>\n",
       "      <td>PT</td>\n",
       "    </tr>\n",
       "    <tr>\n",
       "      <th>1</th>\n",
       "      <td>Whitney Morgan</td>\n",
       "      <td>Doctor of Pharmacy (Pharm.D.)</td>\n",
       "      <td>70</td>\n",
       "      <td>dentistry</td>\n",
       "      <td>online</td>\n",
       "      <td>FT</td>\n",
       "    </tr>\n",
       "    <tr>\n",
       "      <th>2</th>\n",
       "      <td>Stephanie Norman</td>\n",
       "      <td>Doctor of Dental Medicine (D.M.D.)</td>\n",
       "      <td>58</td>\n",
       "      <td>dentistry</td>\n",
       "      <td>online</td>\n",
       "      <td>PT</td>\n",
       "    </tr>\n",
       "    <tr>\n",
       "      <th>3</th>\n",
       "      <td>Michael Oliver</td>\n",
       "      <td>Doctor of Dental Surgery (D.D.S.)</td>\n",
       "      <td>75</td>\n",
       "      <td>nutrition</td>\n",
       "      <td>on-campus</td>\n",
       "      <td>PT</td>\n",
       "    </tr>\n",
       "    <tr>\n",
       "      <th>4</th>\n",
       "      <td>Andrea Smith</td>\n",
       "      <td>Master of Health Administration (M.H.A.)</td>\n",
       "      <td>78</td>\n",
       "      <td>dentistry</td>\n",
       "      <td>online</td>\n",
       "      <td>PT</td>\n",
       "    </tr>\n",
       "  </tbody>\n",
       "</table>\n",
       "</div>"
      ],
      "text/plain": [
       "           Fullname                                    Course  Score  \\\n",
       "0       Mark Garcia          Master of Public Health (M.P.H.)     97   \n",
       "1    Whitney Morgan             Doctor of Pharmacy (Pharm.D.)     70   \n",
       "2  Stephanie Norman        Doctor of Dental Medicine (D.M.D.)     58   \n",
       "3    Michael Oliver         Doctor of Dental Surgery (D.D.S.)     75   \n",
       "4      Andrea Smith  Master of Health Administration (M.H.A.)     78   \n",
       "\n",
       "  Experience Study_mode Study_pattern  \n",
       "0  dentistry  on-campus            PT  \n",
       "1  dentistry     online            FT  \n",
       "2  dentistry     online            PT  \n",
       "3  nutrition  on-campus            PT  \n",
       "4  dentistry     online            PT  "
      ]
     },
     "execution_count": 30,
     "metadata": {},
     "output_type": "execute_result"
    }
   ],
   "source": [
    "# checkout the head of the candidates dataframe\n",
    "candidates.head()"
   ]
  },
  {
   "cell_type": "markdown",
   "id": "63aec392",
   "metadata": {},
   "source": [
    "### Data cleaning"
   ]
  },
  {
   "cell_type": "markdown",
   "id": "90227be2",
   "metadata": {},
   "source": [
    "In this section, both dataframes are prepared for future data visualization and prepared according to the algorithm utilised. "
   ]
  },
  {
   "cell_type": "code",
   "execution_count": null,
   "id": "119640be",
   "metadata": {},
   "outputs": [],
   "source": []
  },
  {
   "cell_type": "code",
   "execution_count": null,
   "id": "ede94ace",
   "metadata": {},
   "outputs": [],
   "source": []
  },
  {
   "cell_type": "code",
   "execution_count": null,
   "id": "b3506bba",
   "metadata": {},
   "outputs": [],
   "source": []
  },
  {
   "cell_type": "markdown",
   "id": "076080d5",
   "metadata": {},
   "source": [
    "### Exploratory data visualization & analysis"
   ]
  },
  {
   "cell_type": "markdown",
   "id": "7208c18c",
   "metadata": {},
   "source": [
    "In this section, the visualization libraries imported at the top of the notebook are put to use to plot both datasets and hopefully discover trends which could be relevant in the later stages of this experiment"
   ]
  },
  {
   "cell_type": "code",
   "execution_count": 58,
   "id": "77436323",
   "metadata": {},
   "outputs": [
    {
     "data": {
      "text/plain": [
       "<Axes: xlabel='Score', ylabel='Count'>"
      ]
     },
     "execution_count": 58,
     "metadata": {},
     "output_type": "execute_result"
    },
    {
     "data": {
      "image/png": "[encoded data removed]",
      "text/plain": [
       "<Figure size 1000x300 with 1 Axes>"
      ]
     },
     "metadata": {},
     "output_type": "display_data"
    }
   ],
   "source": [
    "sns.set_theme(style=\"ticks\")\n",
    "sns.color_palette(\"flare\", as_cmap=True)\n",
    "plt.figure(figsize=(10, 3))\n",
    "\n",
    "# histogram plot to check for trend in student score based on study-mode \n",
    "sns.histplot(data=candidates, x=\"Score\", hue=\"Study_mode\", multiple=\"stack\", edgecolor=\".3\", linewidth=.5, bins=25, kde=True)"
   ]
  },
  {
   "cell_type": "code",
   "execution_count": null,
   "id": "44effbd5",
   "metadata": {},
   "outputs": [],
   "source": []
  },
  {
   "cell_type": "code",
   "execution_count": null,
   "id": "573a0b53",
   "metadata": {},
   "outputs": [],
   "source": []
  },
  {
   "cell_type": "markdown",
   "id": "24d3fbfd",
   "metadata": {},
   "source": [
    "### Gale-Shapley Algorithm"
   ]
  },
  {
   "cell_type": "code",
   "execution_count": null,
   "id": "99024e8d",
   "metadata": {},
   "outputs": [],
   "source": []
  },
  {
   "cell_type": "code",
   "execution_count": null,
   "id": "3354f5b1",
   "metadata": {},
   "outputs": [],
   "source": []
  },
  {
   "cell_type": "code",
   "execution_count": null,
   "id": "8e4b13ae",
   "metadata": {},
   "outputs": [],
   "source": []
  }
 ],
 "metadata": {
  "kernelspec": {
   "display_name": "Python 3 (ipykernel)",
   "language": "python",
   "name": "python3"
  },
  "language_info": {
   "codemirror_mode": {
    "name": "ipython",
    "version": 3
   },
   "file_extension": ".py",
   "mimetype": "text/x-python",
   "name": "python",
   "nbconvert_exporter": "python",
   "pygments_lexer": "ipython3",
   "version": "3.10.9"
  }
 },
 "nbformat": 4,
 "nbformat_minor": 5
}
